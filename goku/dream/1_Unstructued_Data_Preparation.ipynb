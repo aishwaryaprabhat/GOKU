{
 "cells": [
  {
   "cell_type": "markdown",
   "id": "c6cb9157-ca9f-440f-a96c-b23a06767f6b",
   "metadata": {},
   "source": [
    "## Pre-requisites\n",
    "- Setup a conda venv such that the python version matches that of the ray cluster `conda create -n rayvenv python=3.9.18`\n",
    "- Activate the conda venv using `conda activate rayvenv`\n",
    "- Install jupyter using `pip install jupyter`"
   ]
  },
  {
   "cell_type": "code",
   "execution_count": 3,
   "id": "35ef671d-54ae-40a2-b025-d9da8e8d75f4",
   "metadata": {},
   "outputs": [
    {
     "name": "stdout",
     "output_type": "stream",
     "text": [
      "\u001b[33mWARNING: Running pip as the 'root' user can result in broken permissions and conflicting behaviour with the system package manager. It is recommended to use a virtual environment instead: https://pip.pypa.io/warnings/venv\u001b[0m\u001b[33m\n",
      "\u001b[0m"
     ]
    }
   ],
   "source": [
    "!pip install ray[client] -q"
   ]
  },
  {
   "cell_type": "markdown",
   "id": "d22b0de7-7550-4728-9838-f88e7dc22d63",
   "metadata": {},
   "source": [
    "## Simple Ray Test"
   ]
  },
  {
   "cell_type": "code",
   "execution_count": 2,
   "id": "2eb6367b-817d-4f02-b5ee-312b9fc5fb93",
   "metadata": {},
   "outputs": [],
   "source": [
    "# !kubectl -n raycluster port-forward svc/raycluster-kuberay-head-svc 10001 &"
   ]
  },
  {
   "cell_type": "code",
   "execution_count": 3,
   "id": "93253305-fc4e-447d-9c4d-18d20243bb95",
   "metadata": {},
   "outputs": [
    {
     "name": "stdout",
     "output_type": "stream",
     "text": [
      "[0, 1, 4, 9, 16, 25, 36, 49, 64, 81, 100, 121, 144, 169, 196, 225, 256, 289, 324, 361, 400, 441, 484, 529, 576, 625, 676, 729, 784, 841, 900, 961, 1024, 1089, 1156, 1225, 1296, 1369, 1444, 1521, 1600, 1681, 1764, 1849, 1936, 2025, 2116, 2209, 2304, 2401, 2500, 2601, 2704, 2809, 2916, 3025, 3136, 3249, 3364, 3481, 3600, 3721, 3844, 3969, 4096, 4225, 4356, 4489, 4624, 4761, 4900, 5041, 5184, 5329, 5476, 5625, 5776, 5929, 6084, 6241, 6400, 6561, 6724, 6889, 7056, 7225, 7396, 7569, 7744, 7921, 8100, 8281, 8464, 8649, 8836, 9025, 9216, 9409, 9604, 9801]\n"
     ]
    }
   ],
   "source": [
    "import ray\n",
    "import os\n",
    "\n",
    "os.environ['RAY_ADDRESS'] = 'ray://localhost:10001'\n",
    "\n",
    "# Initialize Ray\n",
    "# ray.init()\n",
    "\n",
    "@ray.remote\n",
    "def square(num):\n",
    "    \"\"\"A remote function to compute the square of a number.\"\"\"\n",
    "    return num * num\n",
    "\n",
    "# Create a list to hold references to the asynchronous tasks\n",
    "futures = []\n",
    "\n",
    "# Distribute the computation of squares across Ray workers\n",
    "for i in range(100):\n",
    "    futures.append(square.remote(i))\n",
    "\n",
    "# Retrieve and print the results\n",
    "results = ray.get(futures)\n",
    "print(results)"
   ]
  },
  {
   "cell_type": "markdown",
   "id": "ac7e2474-295b-410a-8bb6-5114e5827722",
   "metadata": {},
   "source": [
    "## Download dataset and push to S3"
   ]
  },
  {
   "cell_type": "markdown",
   "id": "21175b9e-1d6e-4f0c-9c66-1ba2a953391f",
   "metadata": {},
   "source": [
    "### Pre-requisites for pushing to S3 (MinIO)\n",
    "- If you're using the GOKU architecture, setup MinIO as described in the setup docs.\n",
    "- Create a bucket -> Create a policy -> Create a user based on the polichy -> Create access key for the user"
   ]
  },
  {
   "cell_type": "code",
   "execution_count": 5,
   "id": "cd6daea1-c4da-42f9-8374-2016f39a4055",
   "metadata": {},
   "outputs": [
    {
     "name": "stdout",
     "output_type": "stream",
     "text": [
      "Cloning into 'DataRepository'...\n",
      "remote: Enumerating objects: 54, done.\u001b[K\n",
      "remote: Counting objects: 100% (46/46), done.\u001b[K\n",
      "remote: Compressing objects: 100% (34/34), done.\u001b[K\n",
      "remote: Total 54 (delta 15), reused 20 (delta 7), pack-reused 8\u001b[K\n",
      "Receiving objects: 100% (54/54), 51.28 MiB | 18.17 MiB/s, done.\n",
      "Resolving deltas: 100% (15/15), done.\n",
      "mkdir: cannot create directory ‘source_docs’: File exists\n",
      "Archive:  DataRepository/high-performance-rag/Camel Papers Test.zip\n",
      "  inflating: source_docs/Acute respiratory distress syndrome in an alpaca cria.pdf  \n",
      "  inflating: source_docs/Alpaca liveweight variations and fiber production in Mediterranean range of Chile.pdf  \n",
      "Archive:  DataRepository/high-performance-rag/Camel Papers Train.zip\n",
      "  inflating: source_docs/Antibody response to the epsilon toxin ofClostridium perfringensfollowing vaccination of Lama glamacrias.pdf  \n",
      "  inflating: source_docs/Comparative pigmentation of sheep, goats, and llamas what colors are possible through selection.pdf  \n",
      "  inflating: source_docs/Conservative management of a ruptured.pdf  \n",
      "  inflating: source_docs/Evaluation of cholesterol and vitamin E concentrations in adult alpacas and nursing crias.pdf  \n",
      "  inflating: source_docs/Influence of effects on quality traits and relationships between traits of the llama fleece..pdf  \n",
      "  inflating: source_docs/Influence of Follicular Fluid on in Vitro.pdf  \n",
      "  inflating: source_docs/Neurological Causes of Diaphragmatic Paralysis in 11 Alpacas.pdf  \n",
      "  inflating: source_docs/On the morphology of the cerebellum of the alpaca (Lama pacos)..pdf  \n",
      "  inflating: source_docs/Relationships between integumental characteristics and.pdf  \n",
      "  inflating: source_docs/Respiratory mechanics and results of cytologic examination of bronchoalveolar lavage fluid in healthy adult alpacas.pdf  \n",
      "  inflating: source_docs/Serum and urine analyte comparison between llamas and alpacas fed three forages.pdf  \n",
      "  inflating: source_docs/The physiological impact of wool-harvesting procedures in vicunas (Vicugna vicugna)..pdf  \n"
     ]
    }
   ],
   "source": [
    "!bash download_dataset.sh # get from https://github.com/aishwaryaprabhat/Advanced-RAG/blob/main/download_dataset.sh"
   ]
  },
  {
   "cell_type": "code",
   "execution_count": 7,
   "id": "aaa2d59d-2ffb-4444-9458-73608930f549",
   "metadata": {},
   "outputs": [
    {
     "name": "stdout",
     "output_type": "stream",
     "text": [
      "\u001b[33mWARNING: Running pip as the 'root' user can result in broken permissions and conflicting behaviour with the system package manager. It is recommended to use a virtual environment instead: https://pip.pypa.io/warnings/venv\u001b[0m\u001b[33m\n",
      "\u001b[0m"
     ]
    }
   ],
   "source": [
    "!pip install boto3 -q"
   ]
  },
  {
   "cell_type": "code",
   "execution_count": 10,
   "id": "8f7a46b9-ca6d-4d54-b053-aac1c53f68e2",
   "metadata": {},
   "outputs": [],
   "source": [
    "# !kubectl -n minio port-forward svc/minio 9000 &"
   ]
  },
  {
   "cell_type": "code",
   "execution_count": 9,
   "id": "29c86c65-3cfe-4c0a-9c77-119d6ab9d0a5",
   "metadata": {},
   "outputs": [
    {
     "name": "stdout",
     "output_type": "stream",
     "text": [
      "Bucket unstructured-data already exists.\n",
      "Uploaded source_docs/The physiological impact of wool-harvesting procedures in vicunas (Vicugna vicugna)..pdf as The physiological impact of wool-harvesting procedures in vicunas (Vicugna vicugna)..pdf\n",
      "Uploaded source_docs/Respiratory mechanics and results of cytologic examination of bronchoalveolar lavage fluid in healthy adult alpacas.pdf as Respiratory mechanics and results of cytologic examination of bronchoalveolar lavage fluid in healthy adult alpacas.pdf\n",
      "Uploaded source_docs/Neurological Causes of Diaphragmatic Paralysis in 11 Alpacas.pdf as Neurological Causes of Diaphragmatic Paralysis in 11 Alpacas.pdf\n",
      "Uploaded source_docs/Serum and urine analyte comparison between llamas and alpacas fed three forages.pdf as Serum and urine analyte comparison between llamas and alpacas fed three forages.pdf\n",
      "Uploaded source_docs/Influence of effects on quality traits and relationships between traits of the llama fleece..pdf as Influence of effects on quality traits and relationships between traits of the llama fleece..pdf\n",
      "Uploaded source_docs/On the morphology of the cerebellum of the alpaca (Lama pacos)..pdf as On the morphology of the cerebellum of the alpaca (Lama pacos)..pdf\n",
      "Uploaded source_docs/Antibody response to the epsilon toxin ofClostridium perfringensfollowing vaccination of Lama glamacrias.pdf as Antibody response to the epsilon toxin ofClostridium perfringensfollowing vaccination of Lama glamacrias.pdf\n",
      "Uploaded source_docs/Evaluation of cholesterol and vitamin E concentrations in adult alpacas and nursing crias.pdf as Evaluation of cholesterol and vitamin E concentrations in adult alpacas and nursing crias.pdf\n",
      "Uploaded source_docs/Relationships between integumental characteristics and.pdf as Relationships between integumental characteristics and.pdf\n",
      "Uploaded source_docs/Acute respiratory distress syndrome in an alpaca cria.pdf as Acute respiratory distress syndrome in an alpaca cria.pdf\n",
      "Uploaded source_docs/Influence of Follicular Fluid on in Vitro.pdf as Influence of Follicular Fluid on in Vitro.pdf\n",
      "Uploaded source_docs/Comparative pigmentation of sheep, goats, and llamas what colors are possible through selection.pdf as Comparative pigmentation of sheep, goats, and llamas what colors are possible through selection.pdf\n",
      "Uploaded source_docs/Alpaca liveweight variations and fiber production in Mediterranean range of Chile.pdf as Alpaca liveweight variations and fiber production in Mediterranean range of Chile.pdf\n",
      "Uploaded source_docs/Conservative management of a ruptured.pdf as Conservative management of a ruptured.pdf\n"
     ]
    }
   ],
   "source": [
    "import boto3\n",
    "import os\n",
    "\n",
    "def upload_directory_to_minio(bucket_name, directory_path, endpoint_url, access_key, secret_key):\n",
    "    # Create a boto3 session\n",
    "    session = boto3.session.Session()\n",
    "\n",
    "    # Create an S3 client configured for MinIO\n",
    "    s3_client = session.client(\n",
    "        service_name='s3',\n",
    "        aws_access_key_id=access_key,\n",
    "        aws_secret_access_key=secret_key,\n",
    "        endpoint_url=endpoint_url,\n",
    "        region_name='us-east-1',  # This can be any string\n",
    "        config=boto3.session.Config(signature_version='s3v4')\n",
    "    )\n",
    "\n",
    "    # Ensure bucket exists (create if not)\n",
    "    # Note: MinIO may require manual bucket creation or different permissions setup\n",
    "    try:\n",
    "        if s3_client.head_bucket(Bucket=bucket_name):\n",
    "            print(f\"Bucket {bucket_name} already exists.\")\n",
    "    except:\n",
    "        s3_client.create_bucket(Bucket=bucket_name)\n",
    "        print(f\"Bucket {bucket_name} created.\")\n",
    "\n",
    "    # Upload each PDF in the directory\n",
    "    for root, dirs, files in os.walk(directory_path):\n",
    "        for file in files:\n",
    "            if file.lower().endswith('.pdf'):\n",
    "                file_path = os.path.join(root, file)\n",
    "                object_name = os.path.relpath(file_path, directory_path).replace(\"\\\\\", \"/\")  # Ensure proper path format\n",
    "                try:\n",
    "                    s3_client.upload_file(file_path, bucket_name, object_name)\n",
    "                    print(f\"Uploaded {file_path} as {object_name}\")\n",
    "                except Exception as e:\n",
    "                    print(f\"Failed to upload {file_path}: {e}\")\n",
    "\n",
    "# Usage example\n",
    "endpoint_url = 'http://localhost:9000'  # Example: 'http://127.0.0.1:9000'\n",
    "access_key = ''\n",
    "secret_key = ''\n",
    "bucket_name = 'unstructured-data'\n",
    "directory_path = 'source_docs'\n",
    "\n",
    "upload_directory_to_minio(bucket_name, directory_path, endpoint_url, access_key, secret_key)\n"
   ]
  },
  {
   "cell_type": "code",
   "execution_count": 11,
   "id": "b5e68060-5d10-4f8b-a8cc-cf4682179f2e",
   "metadata": {},
   "outputs": [],
   "source": [
    "!rm -rf source_docs"
   ]
  },
  {
   "cell_type": "markdown",
   "id": "233db2c3-82b8-44f5-b42c-f1d9ccef2f0d",
   "metadata": {},
   "source": [
    "![](assets/minio_data.png)"
   ]
  },
  {
   "cell_type": "code",
   "execution_count": null,
   "id": "7d83de82-7a9b-410f-b0a4-2feaf58ac31f",
   "metadata": {},
   "outputs": [],
   "source": []
  }
 ],
 "metadata": {
  "kernelspec": {
   "display_name": "Python 3 (ipykernel)",
   "language": "python",
   "name": "python3"
  },
  "language_info": {
   "codemirror_mode": {
    "name": "ipython",
    "version": 3
   },
   "file_extension": ".py",
   "mimetype": "text/x-python",
   "name": "python",
   "nbconvert_exporter": "python",
   "pygments_lexer": "ipython3",
   "version": "3.9.18"
  }
 },
 "nbformat": 4,
 "nbformat_minor": 5
}
