{
 "cells": [
  {
   "cell_type": "markdown",
   "id": "eeda01ba-e4f8-4bd0-88e3-5681b25392aa",
   "metadata": {},
   "source": [
    "## Pre-requisites\n",
    "- Setup a conda venv such that the python version matches that of the ray cluster conda create -n rayvenv python=3.9.18\n",
    "- Activate the conda venv using conda activate rayvenv\n",
    "- Install jupyter using pip install jupyter\n",
    "- Run the steps in [1_Unstructued_Data_Preparation.ipynb notebook](./1_Unstructued_Data_Preparation.ipynb) to download dataset and push to S3\n",
    "- Ensure that the following are set as env vars\n",
    "    - 'AWS_ACCESS_KEY_ID'\n",
    "    - 'AWS_SECRET_ACCESS_KEY'\n",
    "    - 'HUGGINGFACE_API_TOKEN'\n",
    "    - 'OPENAI_API_KEY'"
   ]
  },
  {
   "cell_type": "markdown",
   "id": "9fd5acd1-7e80-409b-9857-bd02f1286b9a",
   "metadata": {},
   "source": [
    "## Environment Setup"
   ]
  },
  {
   "cell_type": "code",
   "execution_count": 35,
   "id": "cf90d966-0bd1-4083-a990-08a7d86a9ebd",
   "metadata": {},
   "outputs": [
    {
     "name": "stdout",
     "output_type": "stream",
     "text": [
      "\u001b[31mERROR: pip's dependency resolver does not currently take into account all the packages that are installed. This behaviour is the source of the following dependency conflicts.\n",
      "llama-index-readers-s3 0.1.5 requires s3fs<2025.0.0,>=2024.3.0, but you have s3fs 0.4.2 which is incompatible.\u001b[0m\u001b[31m\n",
      "\u001b[0m\u001b[33mWARNING: Running pip as the 'root' user can result in broken permissions and conflicting behaviour with the system package manager. It is recommended to use a virtual environment instead: https://pip.pypa.io/warnings/venv\u001b[0m\u001b[33m\n",
      "\u001b[0mNote: you may need to restart the kernel to use updated packages.\n"
     ]
    }
   ],
   "source": [
    "%pip install llama-index-llms-openai llama-index-embeddings-openai llama-index-finetuning ray['client'] boto3 -q"
   ]
  },
  {
   "cell_type": "markdown",
   "id": "a21915cd-9bff-4aca-9b0b-95f28ab8a8c4",
   "metadata": {},
   "source": [
    "### Init Ray Client"
   ]
  },
  {
   "cell_type": "code",
   "execution_count": null,
   "id": "6e233ea4-ab05-4117-b2b0-1df4fa13a267",
   "metadata": {},
   "outputs": [
    {
     "name": "stderr",
     "output_type": "stream",
     "text": [
      "2024-05-14 05:25:33,160\tINFO worker.py:1432 -- Using address ray://localhost:10001 set in the environment variable RAY_ADDRESS\n",
      "2024-05-14 05:25:33,163\tINFO client_builder.py:244 -- Passing the following kwargs to ray.init() on the server: include_dashboard, log_to_driver\n"
     ]
    }
   ],
   "source": [
    "import os\n",
    "import ray\n",
    "\n",
    "# os.environ['OPENAI_API_KEY'] = 'sk_...'\n",
    "os.environ['RAY_ADDRESS'] = 'ray://localhost:10001' # kubectl -n raycluster port-forward svc/raycluster-kuberay-head-svc 10001\n",
    "\n",
    "ray.shutdown() # precautionary :)\n",
    "runtime_env = {\n",
    "    'pip': [\n",
    "        'llama-index==0.10.27',\n",
    "        'llama-index-finetuning==0.1.5',\n",
    "        'boto3==1.34.79',\n",
    "        'botocore==1.34.79',\n",
    "        'ipython==8.18.1',\n",
    "        'pandas==2.2.1',\n",
    "        'ragas==0.1.7',\n",
    "        'pypdf2==3.0.1',\n",
    "        'boto3==1.34.79',\n",
    "        'langchain==0.1.14',\n",
    "        'unstructured==0.13.2'\n",
    "        \n",
    "    ],\n",
    "    \"env_vars\": {\n",
    "        'AWS_ACCESS_KEY_ID': os.environ['AWS_ACCESS_KEY_ID'],\n",
    "        'AWS_SECRET_ACCESS_KEY': os.environ['AWS_SECRET_ACCESS_KEY'],\n",
    "        'HUGGINGFACE_API_TOKEN': os.environ['HUGGINGFACE_API_TOKEN'],\n",
    "        'OPENAI_API_KEY': os.environ['OPENAI_API_KEY'],\n",
    "    }\n",
    "\n",
    "}\n",
    "\n",
    "ray.init(runtime_env=runtime_env, include_dashboard=True, log_to_driver=False)"
   ]
  },
  {
   "cell_type": "markdown",
   "id": "4fa71ef6-f871-4be2-b0c8-4e2a60ef22e6",
   "metadata": {},
   "source": [
    "## Create Finetuning Dataset "
   ]
  },
  {
   "cell_type": "markdown",
   "id": "8608a722-5b73-4c23-af82-8c27588297a8",
   "metadata": {},
   "source": [
    "### Re-usable helper functions and variables"
   ]
  },
  {
   "cell_type": "code",
   "execution_count": 15,
   "id": "c418b4e2-0940-48c0-b9d0-00f9816647c4",
   "metadata": {},
   "outputs": [],
   "source": [
    "import boto3\n",
    "import os\n",
    "\n",
    "s3 = boto3.client(\n",
    "        's3',\n",
    "        endpoint_url='http://localhost:9000',\n",
    "        aws_access_key_id=os.environ['AWS_ACCESS_KEY_ID'],\n",
    "        aws_secret_access_key=os.environ['AWS_SECRET_ACCESS_KEY']\n",
    ")\n",
    "\n",
    "BUCKET_NAME = 'unstructured-data'\n",
    "\n",
    "def list_files_in_bucket(bucket_name):\n",
    "    file_paths = []\n",
    "    paginator = s3.get_paginator('list_objects_v2')\n",
    "    page_iterator = paginator.paginate(Bucket=bucket_name)\n",
    "\n",
    "    for page in page_iterator:\n",
    "        if \"Contents\" in page:\n",
    "            for obj in page['Contents']:\n",
    "                if obj['Key'].lower().endswith('.pdf'):  # Check if the file is a PDF\n",
    "                    file_paths.append(obj['Key'])\n",
    "\n",
    "    return file_paths\n",
    "\n",
    "\n",
    "def upload_directory_to_minio(bucket_name, directory_path, endpoint_url, access_key, secret_key, file_extension='.pdf'):\n",
    "    # Create a boto3 session\n",
    "    session = boto3.session.Session()\n",
    "\n",
    "    # Create an S3 client configured for MinIO\n",
    "    s3_client = session.client(\n",
    "        service_name='s3',\n",
    "        aws_access_key_id=access_key,\n",
    "        aws_secret_access_key=secret_key,\n",
    "        endpoint_url=endpoint_url,\n",
    "        region_name='us-east-1',  # This can be any string\n",
    "        config=boto3.session.Config(signature_version='s3v4')\n",
    "    )\n",
    "\n",
    "    # Ensure bucket exists (create if not)\n",
    "    try:\n",
    "        if s3_client.head_bucket(Bucket=bucket_name):\n",
    "            print(f\"Bucket {bucket_name} already exists.\")\n",
    "    except:\n",
    "        s3_client.create_bucket(Bucket=bucket_name)\n",
    "        print(f\"Bucket {bucket_name} created.\")\n",
    "\n",
    "    # Upload each PDF in the directory\n",
    "    for root, dirs, files in os.walk(directory_path):\n",
    "        for file in files:\n",
    "            if file.lower().endswith(file_extension):\n",
    "                file_path = os.path.join(root, file)\n",
    "                object_name = os.path.relpath(file_path, directory_path).replace(\"\\\\\", \"/\")  # Ensure proper path format\n",
    "                try:\n",
    "                    s3_client.upload_file(file_path, bucket_name, object_name)\n",
    "                    print(f\"Uploaded {file_path} as {object_name}\")\n",
    "                except Exception as e:\n",
    "                    print(f\"Failed to upload {file_path}: {e}\")"
   ]
  },
  {
   "cell_type": "code",
   "execution_count": 14,
   "id": "72510353-16b1-4ec8-a8d3-74e23134af22",
   "metadata": {},
   "outputs": [
    {
     "data": {
      "text/plain": [
       "['Acute respiratory distress syndrome in an alpaca cria.pdf',\n",
       " 'Alpaca liveweight variations and fiber production in Mediterranean range of Chile.pdf',\n",
       " 'Antibody response to the epsilon toxin ofClostridium perfringensfollowing vaccination of Lama glamacrias.pdf',\n",
       " 'Comparative pigmentation of sheep, goats, and llamas what colors are possible through selection.pdf',\n",
       " 'Conservative management of a ruptured.pdf',\n",
       " 'Evaluation of cholesterol and vitamin E concentrations in adult alpacas and nursing crias.pdf',\n",
       " 'Influence of Follicular Fluid on in Vitro.pdf',\n",
       " 'Influence of effects on quality traits and relationships between traits of the llama fleece..pdf',\n",
       " 'Neurological Causes of Diaphragmatic Paralysis in 11 Alpacas.pdf',\n",
       " 'On the morphology of the cerebellum of the alpaca (Lama pacos)..pdf',\n",
       " 'Relationships between integumental characteristics and.pdf',\n",
       " 'Respiratory mechanics and results of cytologic examination of bronchoalveolar lavage fluid in healthy adult alpacas.pdf',\n",
       " 'Serum and urine analyte comparison between llamas and alpacas fed three forages.pdf',\n",
       " 'The physiological impact of wool-harvesting procedures in vicunas (Vicugna vicugna)..pdf']"
      ]
     },
     "execution_count": 14,
     "metadata": {},
     "output_type": "execute_result"
    }
   ],
   "source": [
    "list_files_in_bucket(BUCKET_NAME)"
   ]
  },
  {
   "cell_type": "markdown",
   "id": "b5f8ba76-c0e7-4947-a27c-c6ddc2e16831",
   "metadata": {},
   "source": [
    "### Generate QA Pairs in a distributed manner"
   ]
  },
  {
   "cell_type": "code",
   "execution_count": 21,
   "id": "241d22ae-944a-4502-b157-19ac91bf72c1",
   "metadata": {
    "scrolled": true
   },
   "outputs": [],
   "source": [
    "import os\n",
    "import boto3\n",
    "import fitz  # PyMuPDF\n",
    "import shutil\n",
    "import time\n",
    "import random\n",
    "from llama_index.core import SimpleDirectoryReader\n",
    "from llama_index.core.node_parser import SentenceSplitter\n",
    "from llama_index.core.schema import MetadataMode\n",
    "from ragas.testset.generator import TestsetGenerator\n",
    "from llama_index.llms.openai import OpenAI\n",
    "from llama_index.finetuning import generate_qa_embedding_pairs\n",
    "from llama_index.core.evaluation import EmbeddingQAFinetuneDataset\n",
    "\n",
    "@ray.remote\n",
    "def generate_finetuning_dataset(bucket_name, file_names):\n",
    "\n",
    "    DIRECTORY_NAME = os.path.join(os.getcwd(), 'data')\n",
    "    s3_client = boto3.client(\n",
    "        's3',\n",
    "        aws_access_key_id=os.environ['AWS_ACCESS_KEY_ID'],\n",
    "        aws_secret_access_key=os.environ['AWS_SECRET_ACCESS_KEY'],\n",
    "        endpoint_url='http://minio.minio.svc:9000'\n",
    "    )\n",
    "    \n",
    "    if not os.path.exists(DIRECTORY_NAME):\n",
    "        os.makedirs(DIRECTORY_NAME)\n",
    "    \n",
    "    for file_name in file_names:\n",
    "        LOCAL_FILE_PATH = os.path.join(DIRECTORY_NAME, file_name)\n",
    "        \n",
    "        # Fetch the PDF file from S3\n",
    "        pdf_file = s3_client.get_object(Bucket=bucket_name, Key=file_name)\n",
    "        pdf_content = pdf_file['Body'].read()\n",
    "        \n",
    "        with open(LOCAL_FILE_PATH, 'wb') as f:\n",
    "            f.write(pdf_content)\n",
    "\n",
    "    reader = SimpleDirectoryReader(input_dir=DIRECTORY_NAME)\n",
    "    documents = reader.load_data()\n",
    "\n",
    "    parser = SentenceSplitter()\n",
    "    nodes = parser.get_nodes_from_documents(documents, show_progress=True)\n",
    "\n",
    "    dataset = generate_qa_embedding_pairs(\n",
    "        llm=OpenAI(model=\"gpt-3.5-turbo\"),\n",
    "        nodes=nodes\n",
    "    )\n",
    "\n",
    "    return dataset"
   ]
  },
  {
   "cell_type": "code",
   "execution_count": 22,
   "id": "5707f4ea-3065-492f-888b-521c67533133",
   "metadata": {},
   "outputs": [],
   "source": [
    "pdfs_on_s3 = list_files_in_bucket(BUCKET_NAME)\n",
    "futures = []\n",
    "\n",
    "# Process up to 3 PDFs at a time\n",
    "for i in range(0, len(pdfs_on_s3), 3):\n",
    "    batch = pdfs_on_s3[i:i+3]\n",
    "    future = generate_finetuning_dataset.remote(BUCKET_NAME, batch)\n",
    "    futures.append(future)\n",
    "\n",
    "combined_datasets = ray.get(futures)"
   ]
  },
  {
   "cell_type": "markdown",
   "id": "b8838d94-144b-451f-bc4b-c9ac75a00b22",
   "metadata": {},
   "source": [
    "### Collating datasets into a single json and checkpointing them in S3 for later"
   ]
  },
  {
   "cell_type": "code",
   "execution_count": 32,
   "id": "096f6da2-6183-4a3c-9d95-1e50f7b66bbf",
   "metadata": {},
   "outputs": [
    {
     "name": "stdout",
     "output_type": "stream",
     "text": [
      "Directory './data/finetuning' created successfully\n"
     ]
    }
   ],
   "source": [
    "# create dir\n",
    "finetuning_dir = './data/finetuning'\n",
    "try:\n",
    "    os.makedirs(finetuning_dir)\n",
    "    print(f\"Directory '{finetuning_dir}' created successfully\")\n",
    "except FileExistsError:\n",
    "    print(f\"Directory '{finetuning_dir}' already exists\")\n",
    "except Exception as e:\n",
    "    print(f\"An error occurred: {e}\")\n",
    "\n",
    "\n",
    "# loop over datasets to convert to json\n",
    "for i in range(len(combined_datasets)):\n",
    "    dataset = combined_datasets[i]\n",
    "    dataset.save_json(os.path.join(finetuning_dir, str(i)+'.json'))\n",
    "\n",
    "# combine the jsons\n",
    "# save as single json file"
   ]
  },
  {
   "cell_type": "code",
   "execution_count": 49,
   "id": "088cb284-a933-4a80-a492-e8e2175bc14b",
   "metadata": {},
   "outputs": [
    {
     "name": "stdout",
     "output_type": "stream",
     "text": [
      "Combined JSON saved to ./data/finetuning/finetuning_dataset.json\n"
     ]
    }
   ],
   "source": [
    "import os\n",
    "import json\n",
    "\n",
    "def combine_json_files(input_directory, output_file):\n",
    "    combined_data = {\n",
    "        \"mode\": None,\n",
    "        \"queries\": {},\n",
    "        \"corpus\": {},\n",
    "        \"relevant_docs\": {}\n",
    "    }\n",
    "\n",
    "    # Iterate through all files in the directory\n",
    "    for filename in os.listdir(input_directory):\n",
    "        if filename.endswith('.json'):\n",
    "            file_path = os.path.join(input_directory, filename)\n",
    "            try:\n",
    "                with open(file_path, 'r') as f:\n",
    "                    data = json.load(f)\n",
    "                    \n",
    "                    # Check and set the mode if not already set\n",
    "                    if combined_data[\"mode\"] is None:\n",
    "                        combined_data[\"mode\"] = data[\"mode\"]\n",
    "                    elif combined_data[\"mode\"] != data[\"mode\"]:\n",
    "                        raise ValueError(f\"Mode mismatch: {combined_data['mode']} != {data['mode']} in file {file_path}\")\n",
    "\n",
    "                    # Merge queries\n",
    "                    combined_data[\"queries\"].update(data[\"queries\"])\n",
    "\n",
    "                    # Merge corpus\n",
    "                    combined_data[\"corpus\"].update(data[\"corpus\"])\n",
    "\n",
    "                    # Merge relevant_docs\n",
    "                    for key, value in data[\"relevant_docs\"].items():\n",
    "                        if key in combined_data[\"relevant_docs\"]:\n",
    "                            combined_data[\"relevant_docs\"][key].extend(value)\n",
    "                        else:\n",
    "                            combined_data[\"relevant_docs\"][key] = value\n",
    "            except json.JSONDecodeError as e:\n",
    "                print(f\"Error decoding JSON from file {file_path}: {e}\")\n",
    "            except Exception as e:\n",
    "                print(f\"An error occurred while reading file {file_path}: {e}\")\n",
    "\n",
    "    # Write combined data to the output file\n",
    "    try:\n",
    "        with open(output_file, 'w') as f:\n",
    "            json.dump(combined_data, f, indent=4)\n",
    "        print(f\"Combined JSON saved to {output_file}\")\n",
    "    except Exception as e:\n",
    "        print(f\"An error occurred while writing to file {output_file}: {e}\")\n",
    "\n",
    "# Example usage\n",
    "# combine_json_files('path/to/input_directory', 'output_file.json')\n",
    "\n",
    "\n",
    "\n",
    "combined_dataset_json = 'finetuning_dataset.json'\n",
    "combine_json_files(finetuning_dir, os.path.join(finetuning_dir, combined_dataset_json))"
   ]
  },
  {
   "cell_type": "code",
   "execution_count": 50,
   "id": "7e0db67d-a516-4fe5-b3bf-4f5a80a4299b",
   "metadata": {},
   "outputs": [
    {
     "name": "stdout",
     "output_type": "stream",
     "text": [
      "Bucket unstructured-data already exists.\n",
      "Uploaded ./data/finetuning/0.json as 0.json\n",
      "Uploaded ./data/finetuning/2.json as 2.json\n",
      "Uploaded ./data/finetuning/4.json as 4.json\n",
      "Uploaded ./data/finetuning/1.json as 1.json\n",
      "Uploaded ./data/finetuning/3.json as 3.json\n",
      "Uploaded ./data/finetuning/finetuning_dataset.json as finetuning_dataset.json\n",
      "Uploaded ./data/finetuning/.ipynb_checkpoints/0-checkpoint.json as .ipynb_checkpoints/0-checkpoint.json\n",
      "Uploaded ./data/finetuning/.ipynb_checkpoints/3-checkpoint.json as .ipynb_checkpoints/3-checkpoint.json\n",
      "Uploaded ./data/finetuning/.ipynb_checkpoints/finetuning_dataset-checkpoint.json as .ipynb_checkpoints/finetuning_dataset-checkpoint.json\n"
     ]
    }
   ],
   "source": [
    "endpoint_url = 'http://localhost:9000'  # Example: 'http://127.0.0.1:9000'\n",
    "access_key = os.environ['AWS_ACCESS_KEY_ID']\n",
    "secret_key = os.environ['AWS_SECRET_ACCESS_KEY']\n",
    "\n",
    "upload_directory_to_minio(BUCKET_NAME, finetuning_dir, endpoint_url, access_key, secret_key, '.json')"
   ]
  },
  {
   "cell_type": "markdown",
   "id": "3ef50338-61db-44d8-bfc6-e228260f91b0",
   "metadata": {},
   "source": [
    "![](assets/minio_finetuning_dataset.png)"
   ]
  },
  {
   "cell_type": "markdown",
   "id": "ea049d1e-fcf1-4071-a732-5c7b0a5e4f2d",
   "metadata": {},
   "source": [
    "## Distributed Finetuning"
   ]
  },
  {
   "cell_type": "markdown",
   "id": "9deb7e11-fc83-495b-89bb-d5913eca881e",
   "metadata": {},
   "source": [
    "### Downloading SentenceTransformer embedding model from HuggingFace"
   ]
  },
  {
   "cell_type": "code",
   "execution_count": 3,
   "id": "45a25560-f258-4e9b-b28e-9fa214a38c37",
   "metadata": {},
   "outputs": [],
   "source": [
    "from sentence_transformers import SentenceTransformer\n",
    "\n",
    "# Specify the model name\n",
    "model_name = \"all-MiniLM-L6-v2\"\n",
    "\n",
    "# Load the model\n",
    "model = SentenceTransformer(model_name)\n",
    "\n",
    "# Save model locally\n",
    "model.save(\"./work_dir\")"
   ]
  },
  {
   "cell_type": "markdown",
   "id": "2ebd57b9-8f8d-4ee0-99f0-aae7f9b1a12a",
   "metadata": {},
   "source": [
    "### Simple finetuning without Ray Train"
   ]
  },
  {
   "cell_type": "code",
   "execution_count": 6,
   "id": "d212de12-296f-4337-b265-2a807d8fd2b0",
   "metadata": {},
   "outputs": [
    {
     "data": {
      "application/vnd.jupyter.widget-view+json": {
       "model_id": "577fb05d3fa540a38c1a21be813f91d4",
       "version_major": 2,
       "version_minor": 0
      },
      "text/plain": [
       "Epoch:   0%|          | 0/2 [00:00<?, ?it/s]"
      ]
     },
     "metadata": {},
     "output_type": "display_data"
    },
    {
     "data": {
      "application/vnd.jupyter.widget-view+json": {
       "model_id": "cf9e7f49e0f547fb8e120417dd277eae",
       "version_major": 2,
       "version_minor": 0
      },
      "text/plain": [
       "Iteration:   0%|          | 0/39 [00:00<?, ?it/s]"
      ]
     },
     "metadata": {},
     "output_type": "display_data"
    },
    {
     "data": {
      "application/vnd.jupyter.widget-view+json": {
       "model_id": "fae49ada551e4898a8dd20d124335766",
       "version_major": 2,
       "version_minor": 0
      },
      "text/plain": [
       "Iteration:   0%|          | 0/39 [00:00<?, ?it/s]"
      ]
     },
     "metadata": {},
     "output_type": "display_data"
    }
   ],
   "source": [
    "from llama_index.finetuning import SentenceTransformersFinetuneEngine\n",
    "from llama_index.core.evaluation import EmbeddingQAFinetuneDataset\n",
    "\n",
    "train_dataset = EmbeddingQAFinetuneDataset.from_json('./data/finetuning/finetuning_dataset.json')\n",
    "finetune_engine = SentenceTransformersFinetuneEngine(\n",
    "    train_dataset,\n",
    "    model_id='./work_dir',\n",
    "    model_output_path=\"test_model\",\n",
    "    batch_size=32\n",
    ")\n",
    "\n",
    "finetune_engine.finetune()"
   ]
  },
  {
   "cell_type": "markdown",
   "id": "785d1cda-1e49-45b2-9f9b-6dd76165fb31",
   "metadata": {},
   "source": [
    "### Distributed Finetuning with Ray Train"
   ]
  },
  {
   "cell_type": "markdown",
   "id": "371448b6-0e64-43f0-981e-d670e8c6b7c0",
   "metadata": {},
   "source": [
    "#### Initialise Ray Client (again...we need to mount a work_dir)"
   ]
  },
  {
   "cell_type": "code",
   "execution_count": 1,
   "id": "caea2470-3bb7-45db-ba20-b9a4a05bba39",
   "metadata": {},
   "outputs": [
    {
     "name": "stderr",
     "output_type": "stream",
     "text": [
      "2024-05-14 15:54:22,856\tINFO worker.py:1432 -- Using address ray://localhost:10001 set in the environment variable RAY_ADDRESS\n",
      "2024-05-14 15:54:22,886\tINFO client_builder.py:244 -- Passing the following kwargs to ray.init() on the server: include_dashboard, log_to_driver\n"
     ]
    },
    {
     "data": {
      "application/vnd.jupyter.widget-view+json": {
       "model_id": "ebd796511c704178b62bd76347aea1c6",
       "version_major": 2,
       "version_minor": 0
      },
      "text/html": [
       "<div class=\"lm-Widget p-Widget lm-Panel p-Panel jp-Cell-outputWrapper\">\n",
       "    <div style=\"margin-left: 50px;display: flex;flex-direction: row;align-items: center\">\n",
       "        <div class=\"jp-RenderedHTMLCommon\" style=\"display: flex; flex-direction: row;\">\n",
       "  <svg viewBox=\"0 0 567 224\" fill=\"none\" xmlns=\"http://www.w3.org/2000/svg\" style=\"height: 3em;\">\n",
       "    <g clip-path=\"url(#clip0_4338_178347)\">\n",
       "        <path d=\"M341.29 165.561H355.29L330.13 129.051C345.63 123.991 354.21 112.051 354.21 94.2307C354.21 71.3707 338.72 58.1807 311.88 58.1807H271V165.561H283.27V131.661H311.8C314.25 131.661 316.71 131.501 319.01 131.351L341.25 165.561H341.29ZM283.29 119.851V70.0007H311.82C331.3 70.0007 342.34 78.2907 342.34 94.5507C342.34 111.271 331.34 119.861 311.82 119.861L283.29 119.851ZM451.4 138.411L463.4 165.561H476.74L428.74 58.1807H416L367.83 165.561H380.83L392.83 138.411H451.4ZM446.19 126.601H398L422 72.1407L446.24 126.601H446.19ZM526.11 128.741L566.91 58.1807H554.35L519.99 114.181L485.17 58.1807H472.44L514.01 129.181V165.541H526.13V128.741H526.11Z\" fill=\"var(--jp-ui-font-color0)\"/>\n",
       "        <path d=\"M82.35 104.44C84.0187 97.8827 87.8248 92.0678 93.1671 87.9146C98.5094 83.7614 105.083 81.5067 111.85 81.5067C118.617 81.5067 125.191 83.7614 130.533 87.9146C135.875 92.0678 139.681 97.8827 141.35 104.44H163.75C164.476 101.562 165.622 98.8057 167.15 96.2605L127.45 56.5605C121.071 60.3522 113.526 61.6823 106.235 60.3005C98.9443 58.9187 92.4094 54.9203 87.8602 49.0574C83.3109 43.1946 81.0609 35.8714 81.5332 28.4656C82.0056 21.0599 85.1679 14.0819 90.4252 8.8446C95.6824 3.60726 102.672 0.471508 110.08 0.0272655C117.487 -0.416977 124.802 1.86091 130.647 6.4324C136.493 11.0039 140.467 17.5539 141.821 24.8501C143.175 32.1463 141.816 39.6859 138 46.0505L177.69 85.7505C182.31 82.9877 187.58 81.4995 192.962 81.4375C198.345 81.3755 203.648 82.742 208.33 85.3976C213.012 88.0532 216.907 91.9029 219.616 96.5544C222.326 101.206 223.753 106.492 223.753 111.875C223.753 117.258 222.326 122.545 219.616 127.197C216.907 131.848 213.012 135.698 208.33 138.353C203.648 141.009 198.345 142.375 192.962 142.313C187.58 142.251 182.31 140.763 177.69 138L138 177.7C141.808 184.071 143.155 191.614 141.79 198.91C140.424 206.205 136.44 212.75 130.585 217.313C124.731 221.875 117.412 224.141 110.004 223.683C102.596 223.226 95.6103 220.077 90.3621 214.828C85.1139 209.58 81.9647 202.595 81.5072 195.187C81.0497 187.779 83.3154 180.459 87.878 174.605C92.4405 168.751 98.9853 164.766 106.281 163.401C113.576 162.035 121.119 163.383 127.49 167.19L167.19 127.49C165.664 124.941 164.518 122.182 163.79 119.3H141.39C139.721 125.858 135.915 131.673 130.573 135.826C125.231 139.98 118.657 142.234 111.89 142.234C105.123 142.234 98.5494 139.98 93.2071 135.826C87.8648 131.673 84.0587 125.858 82.39 119.3H60C58.1878 126.495 53.8086 132.78 47.6863 136.971C41.5641 141.163 34.1211 142.972 26.7579 142.059C19.3947 141.146 12.6191 137.574 7.70605 132.014C2.79302 126.454 0.0813599 119.29 0.0813599 111.87C0.0813599 104.451 2.79302 97.2871 7.70605 91.7272C12.6191 86.1673 19.3947 82.5947 26.7579 81.6817C34.1211 80.7686 41.5641 82.5781 47.6863 86.7696C53.8086 90.9611 58.1878 97.2456 60 104.44H82.35ZM100.86 204.32C103.407 206.868 106.759 208.453 110.345 208.806C113.93 209.159 117.527 208.258 120.522 206.256C123.517 204.254 125.725 201.276 126.771 197.828C127.816 194.38 127.633 190.677 126.253 187.349C124.874 184.021 122.383 181.274 119.205 179.577C116.027 177.88 112.359 177.337 108.826 178.042C105.293 178.746 102.113 180.654 99.8291 183.44C97.5451 186.226 96.2979 189.718 96.3 193.32C96.2985 195.364 96.7006 197.388 97.4831 199.275C98.2656 201.163 99.4132 202.877 100.86 204.32ZM204.32 122.88C206.868 120.333 208.453 116.981 208.806 113.396C209.159 109.811 208.258 106.214 206.256 103.219C204.254 100.223 201.275 98.0151 197.827 96.97C194.38 95.9249 190.676 96.1077 187.348 97.4873C184.02 98.8669 181.274 101.358 179.577 104.536C177.879 107.714 177.337 111.382 178.041 114.915C178.746 118.448 180.653 121.627 183.439 123.911C186.226 126.195 189.717 127.443 193.32 127.44C195.364 127.443 197.388 127.042 199.275 126.259C201.163 125.476 202.878 124.328 204.32 122.88ZM122.88 19.4205C120.333 16.8729 116.981 15.2876 113.395 14.9347C109.81 14.5817 106.213 15.483 103.218 17.4849C100.223 19.4868 98.0146 22.4654 96.9696 25.9131C95.9245 29.3608 96.1073 33.0642 97.4869 36.3922C98.8665 39.7202 101.358 42.4668 104.535 44.1639C107.713 45.861 111.381 46.4036 114.914 45.6992C118.447 44.9949 121.627 43.0871 123.911 40.301C126.195 37.515 127.442 34.0231 127.44 30.4205C127.44 28.3772 127.038 26.3539 126.255 24.4664C125.473 22.5788 124.326 20.8642 122.88 19.4205ZM19.42 100.86C16.8725 103.408 15.2872 106.76 14.9342 110.345C14.5813 113.93 15.4826 117.527 17.4844 120.522C19.4863 123.518 22.4649 125.726 25.9127 126.771C29.3604 127.816 33.0638 127.633 36.3918 126.254C39.7198 124.874 42.4664 122.383 44.1635 119.205C45.8606 116.027 46.4032 112.359 45.6988 108.826C44.9944 105.293 43.0866 102.114 40.3006 99.8296C37.5145 97.5455 34.0227 96.2983 30.42 96.3005C26.2938 96.3018 22.337 97.9421 19.42 100.86ZM100.86 100.86C98.3125 103.408 96.7272 106.76 96.3742 110.345C96.0213 113.93 96.9226 117.527 98.9244 120.522C100.926 123.518 103.905 125.726 107.353 126.771C110.8 127.816 114.504 127.633 117.832 126.254C121.16 124.874 123.906 122.383 125.604 119.205C127.301 116.027 127.843 112.359 127.139 108.826C126.434 105.293 124.527 102.114 121.741 99.8296C118.955 97.5455 115.463 96.2983 111.86 96.3005C109.817 96.299 107.793 96.701 105.905 97.4835C104.018 98.2661 102.303 99.4136 100.86 100.86Z\" fill=\"#00AEEF\"/>\n",
       "    </g>\n",
       "    <defs>\n",
       "        <clipPath id=\"clip0_4338_178347\">\n",
       "            <rect width=\"566.93\" height=\"223.75\" fill=\"white\"/>\n",
       "        </clipPath>\n",
       "    </defs>\n",
       "  </svg>\n",
       "</div>\n",
       "\n",
       "        <table class=\"jp-RenderedHTMLCommon\" style=\"border-collapse: collapse;color: var(--jp-ui-font-color1);font-size: var(--jp-ui-font-size1);\">\n",
       "    <tr>\n",
       "        <td style=\"text-align: left\"><b>Python version:</b></td>\n",
       "        <td style=\"text-align: left\"><b>3.9.18</b></td>\n",
       "    </tr>\n",
       "    <tr>\n",
       "        <td style=\"text-align: left\"><b>Ray version:</b></td>\n",
       "        <td style=\"text-align: left\"><b>2.10.0</b></td>\n",
       "    </tr>\n",
       "    <tr>\n",
       "    <td style=\"text-align: left\"><b>Dashboard:</b></td>\n",
       "    <td style=\"text-align: left\"><b><a href=\"http://10.10.255.227:8265\" target=\"_blank\">http://10.10.255.227:8265</a></b></td>\n",
       "</tr>\n",
       "\n",
       "</table>\n",
       "\n",
       "    </div>\n",
       "</div>\n"
      ],
      "text/plain": [
       "ClientContext(dashboard_url='10.10.255.227:8265', python_version='3.9.18', ray_version='2.10.0', ray_commit='09abba26b5bf2707639bb637c208d062a47b46f6', _num_clients=1, _context_to_restore=<ray.util.client._ClientContext object at 0x7fb0b84533d0>, protocol_version=None)"
      ]
     },
     "execution_count": 1,
     "metadata": {},
     "output_type": "execute_result"
    }
   ],
   "source": [
    "import os\n",
    "import ray\n",
    "\n",
    "\n",
    "os.environ['RAY_ADDRESS'] = 'ray://localhost:10001' # kubectl -n raycluster port-forward svc/raycluster-kuberay-head-svc 10001\n",
    "os.environ[\"RAY_CHDIR_TO_TRIAL_DIR\"] = \"0\"\n",
    "\n",
    "ray.shutdown() # precautionary :)\n",
    "runtime_env = {\n",
    "    'pip': [\n",
    "        'llama-index==0.10.27',\n",
    "        'llama-index-finetuning==0.1.5',\n",
    "        'boto3==1.34.79',\n",
    "        'botocore==1.34.79',\n",
    "        'ipython==8.18.1',\n",
    "        'pandas==2.2.1',\n",
    "        'ragas==0.1.7',\n",
    "        'pypdf2==3.0.1',\n",
    "        'boto3==1.34.79',\n",
    "        'langchain==0.1.14',\n",
    "        'unstructured==0.13.2'\n",
    "        \n",
    "    ],\n",
    "    'env_vars': {\n",
    "        'AWS_ACCESS_KEY_ID': os.environ['AWS_ACCESS_KEY_ID'],\n",
    "        'AWS_SECRET_ACCESS_KEY': os.environ['AWS_SECRET_ACCESS_KEY'],\n",
    "        'HUGGINGFACE_API_TOKEN': os.environ['HUGGINGFACE_API_TOKEN'],\n",
    "        'OPENAI_API_KEY': os.environ['OPENAI_API_KEY'],\n",
    "    },\n",
    "    'work_dir': './work_dir'\n",
    "    \n",
    "\n",
    "}\n",
    "\n",
    "ray.init(runtime_env=runtime_env, include_dashboard=True, log_to_driver=False)"
   ]
  },
  {
   "cell_type": "markdown",
   "id": "ccb672e9-30ca-4189-90d6-bd6d214ced92",
   "metadata": {},
   "source": [
    "#### Helper Functions"
   ]
  },
  {
   "cell_type": "code",
   "execution_count": 16,
   "id": "0d3610d5-651c-49ed-b1cf-c4ce507a5985",
   "metadata": {},
   "outputs": [],
   "source": [
    "import os\n",
    "import boto3\n",
    "import numpy as np\n",
    "from datasets import load_dataset\n",
    "from transformers import (\n",
    "    Trainer,\n",
    "    TrainingArguments,\n",
    "    AutoTokenizer,\n",
    "    AutoModelForSequenceClassification,\n",
    ")\n",
    "\n",
    "import ray\n",
    "from ray.train import ScalingConfig\n",
    "from ray.train.huggingface.transformers import RayTrainReportCallback\n",
    "\n",
    "def load_my_dataset(data_file, use_all_docs=True):\n",
    "    with open(data_file, 'r') as f:\n",
    "        dataset = json.load(f)\n",
    "\n",
    "    examples = []\n",
    "    for query_id, query in dataset['queries'].items():\n",
    "        if use_all_docs:\n",
    "            for node_id in dataset['relevant_docs'][query_id]:\n",
    "                text = dataset['corpus'][node_id]\n",
    "                example = InputExample(texts=[query, text])\n",
    "                examples.append(example)\n",
    "        else:\n",
    "            node_id = dataset['relevant_docs'][query_id][0]\n",
    "            text = dataset['corpus'][node_id]\n",
    "            example = InputExample(texts=[query, text])\n",
    "            examples.append(example)\n",
    "\n",
    "    return examples\n",
    "\n",
    "def tokenize_function(examples, tokenizer):\n",
    "    return tokenizer(examples[\"text\"], padding=\"max_length\", truncation=True)\n",
    "\n",
    "def upload_to_s3(local_dir, bucket_name, s3_dir):\n",
    "    s3_client = boto3.client(\n",
    "        's3',\n",
    "        aws_access_key_id=os.environ['AWS_ACCESS_KEY_ID'],\n",
    "        aws_secret_access_key=os.environ['AWS_SECRET_ACCESS_KEY'],\n",
    "        endpoint_url='http://minio.minio.svc:9000'\n",
    "    )\n",
    "    for root, dirs, files in os.walk(local_dir):\n",
    "        for file in files:\n",
    "            local_path = os.path.join(root, file)\n",
    "            relative_path = os.path.relpath(local_path, local_dir)\n",
    "            s3_path = os.path.join(s3_dir, relative_path)\n",
    "            s3.upload_file(local_path, bucket_name, s3_path)\n",
    "            print(f\"Uploaded {local_path} to s3://{bucket_name}/{s3_path}\")"
   ]
  },
  {
   "cell_type": "code",
   "execution_count": 21,
   "id": "71ac873a-4c47-46a4-a9bc-6e0b519619f2",
   "metadata": {},
   "outputs": [
    {
     "ename": "TypeError",
     "evalue": "cannot pickle '_thread.lock' object",
     "output_type": "error",
     "traceback": [
      "\u001b[0;31m---------------------------------------------------------------------------\u001b[0m",
      "\u001b[0;31mTypeError\u001b[0m                                 Traceback (most recent call last)",
      "Cell \u001b[0;32mIn[21], line 68\u001b[0m\n\u001b[1;32m     62\u001b[0m trainer \u001b[38;5;241m=\u001b[39m TorchTrainer(\n\u001b[1;32m     63\u001b[0m     train_func,\n\u001b[1;32m     64\u001b[0m     scaling_config\u001b[38;5;241m=\u001b[39mScalingConfig(num_workers\u001b[38;5;241m=\u001b[39m\u001b[38;5;241m2\u001b[39m, use_gpu\u001b[38;5;241m=\u001b[39m\u001b[38;5;28;01mFalse\u001b[39;00m),\n\u001b[1;32m     65\u001b[0m )\n\u001b[1;32m     67\u001b[0m \u001b[38;5;66;03m# Run the trainer\u001b[39;00m\n\u001b[0;32m---> 68\u001b[0m result \u001b[38;5;241m=\u001b[39m \u001b[43mtrainer\u001b[49m\u001b[38;5;241;43m.\u001b[39;49m\u001b[43mfit\u001b[49m\u001b[43m(\u001b[49m\u001b[43m)\u001b[49m\n\u001b[1;32m     70\u001b[0m \u001b[38;5;66;03m# Load the trained model\u001b[39;00m\n\u001b[1;32m     71\u001b[0m \u001b[38;5;28;01mwith\u001b[39;00m result\u001b[38;5;241m.\u001b[39mcheckpoint\u001b[38;5;241m.\u001b[39mas_directory() \u001b[38;5;28;01mas\u001b[39;00m checkpoint_dir:\n",
      "File \u001b[0;32m~/anaconda3/envs/rayvenv/lib/python3.9/site-packages/ray/train/base_trainer.py:580\u001b[0m, in \u001b[0;36mBaseTrainer.fit\u001b[0;34m(self)\u001b[0m\n\u001b[1;32m    577\u001b[0m \u001b[38;5;28;01mfrom\u001b[39;00m \u001b[38;5;21;01mray\u001b[39;00m\u001b[38;5;21;01m.\u001b[39;00m\u001b[38;5;21;01mtune\u001b[39;00m \u001b[38;5;28;01mimport\u001b[39;00m ResumeConfig, TuneError\n\u001b[1;32m    578\u001b[0m \u001b[38;5;28;01mfrom\u001b[39;00m \u001b[38;5;21;01mray\u001b[39;00m\u001b[38;5;21;01m.\u001b[39;00m\u001b[38;5;21;01mtune\u001b[39;00m\u001b[38;5;21;01m.\u001b[39;00m\u001b[38;5;21;01mtuner\u001b[39;00m \u001b[38;5;28;01mimport\u001b[39;00m Tuner\n\u001b[0;32m--> 580\u001b[0m trainable \u001b[38;5;241m=\u001b[39m \u001b[38;5;28;43mself\u001b[39;49m\u001b[38;5;241;43m.\u001b[39;49m\u001b[43mas_trainable\u001b[49m\u001b[43m(\u001b[49m\u001b[43m)\u001b[49m\n\u001b[1;32m    581\u001b[0m param_space \u001b[38;5;241m=\u001b[39m \u001b[38;5;28mself\u001b[39m\u001b[38;5;241m.\u001b[39m_extract_fields_for_tuner_param_space()\n\u001b[1;32m    583\u001b[0m \u001b[38;5;28mself\u001b[39m\u001b[38;5;241m.\u001b[39mrun_config\u001b[38;5;241m.\u001b[39mname \u001b[38;5;241m=\u001b[39m (\n\u001b[1;32m    584\u001b[0m     \u001b[38;5;28mself\u001b[39m\u001b[38;5;241m.\u001b[39mrun_config\u001b[38;5;241m.\u001b[39mname \u001b[38;5;129;01mor\u001b[39;00m StorageContext\u001b[38;5;241m.\u001b[39mget_experiment_dir_name(trainable)\n\u001b[1;32m    585\u001b[0m )\n",
      "File \u001b[0;32m~/anaconda3/envs/rayvenv/lib/python3.9/site-packages/ray/train/base_trainer.py:821\u001b[0m, in \u001b[0;36mBaseTrainer.as_trainable\u001b[0;34m(self)\u001b[0m\n\u001b[1;32m    818\u001b[0m trainable_cls \u001b[38;5;241m=\u001b[39m \u001b[38;5;28mself\u001b[39m\u001b[38;5;241m.\u001b[39m_generate_trainable_cls()\n\u001b[1;32m    820\u001b[0m \u001b[38;5;66;03m# Wrap with `tune.with_parameters` to handle very large values in base_config\u001b[39;00m\n\u001b[0;32m--> 821\u001b[0m \u001b[38;5;28;01mreturn\u001b[39;00m \u001b[43mtune\u001b[49m\u001b[38;5;241;43m.\u001b[39;49m\u001b[43mwith_parameters\u001b[49m\u001b[43m(\u001b[49m\u001b[43mtrainable_cls\u001b[49m\u001b[43m,\u001b[49m\u001b[43m \u001b[49m\u001b[38;5;241;43m*\u001b[39;49m\u001b[38;5;241;43m*\u001b[39;49m\u001b[43mbase_config\u001b[49m\u001b[43m)\u001b[49m\n",
      "File \u001b[0;32m~/anaconda3/envs/rayvenv/lib/python3.9/site-packages/ray/tune/trainable/util.py:107\u001b[0m, in \u001b[0;36mwith_parameters\u001b[0;34m(trainable, **kwargs)\u001b[0m\n\u001b[1;32m    105\u001b[0m prefix \u001b[38;5;241m=\u001b[39m \u001b[38;5;124mf\u001b[39m\u001b[38;5;124m\"\u001b[39m\u001b[38;5;132;01m{\u001b[39;00m\u001b[38;5;28mstr\u001b[39m(trainable)\u001b[38;5;132;01m}\u001b[39;00m\u001b[38;5;124m_\u001b[39m\u001b[38;5;124m\"\u001b[39m\n\u001b[1;32m    106\u001b[0m \u001b[38;5;28;01mfor\u001b[39;00m k, v \u001b[38;5;129;01min\u001b[39;00m kwargs\u001b[38;5;241m.\u001b[39mitems():\n\u001b[0;32m--> 107\u001b[0m     \u001b[43mparameter_registry\u001b[49m\u001b[38;5;241;43m.\u001b[39;49m\u001b[43mput\u001b[49m\u001b[43m(\u001b[49m\u001b[43mprefix\u001b[49m\u001b[43m \u001b[49m\u001b[38;5;241;43m+\u001b[39;49m\u001b[43m \u001b[49m\u001b[43mk\u001b[49m\u001b[43m,\u001b[49m\u001b[43m \u001b[49m\u001b[43mv\u001b[49m\u001b[43m)\u001b[49m\n\u001b[1;32m    109\u001b[0m trainable_name \u001b[38;5;241m=\u001b[39m \u001b[38;5;28mgetattr\u001b[39m(trainable, \u001b[38;5;124m\"\u001b[39m\u001b[38;5;124m__name__\u001b[39m\u001b[38;5;124m\"\u001b[39m, \u001b[38;5;124m\"\u001b[39m\u001b[38;5;124mtune_with_parameters\u001b[39m\u001b[38;5;124m\"\u001b[39m)\n\u001b[1;32m    110\u001b[0m keys \u001b[38;5;241m=\u001b[39m \u001b[38;5;28mset\u001b[39m(kwargs\u001b[38;5;241m.\u001b[39mkeys())\n",
      "File \u001b[0;32m~/anaconda3/envs/rayvenv/lib/python3.9/site-packages/ray/tune/registry.py:296\u001b[0m, in \u001b[0;36m_ParameterRegistry.put\u001b[0;34m(self, k, v)\u001b[0m\n\u001b[1;32m    294\u001b[0m \u001b[38;5;28mself\u001b[39m\u001b[38;5;241m.\u001b[39mto_flush[k] \u001b[38;5;241m=\u001b[39m v\n\u001b[1;32m    295\u001b[0m \u001b[38;5;28;01mif\u001b[39;00m ray\u001b[38;5;241m.\u001b[39mis_initialized():\n\u001b[0;32m--> 296\u001b[0m     \u001b[38;5;28;43mself\u001b[39;49m\u001b[38;5;241;43m.\u001b[39;49m\u001b[43mflush\u001b[49m\u001b[43m(\u001b[49m\u001b[43m)\u001b[49m\n",
      "File \u001b[0;32m~/anaconda3/envs/rayvenv/lib/python3.9/site-packages/ray/tune/registry.py:308\u001b[0m, in \u001b[0;36m_ParameterRegistry.flush\u001b[0;34m(self)\u001b[0m\n\u001b[1;32m    306\u001b[0m         \u001b[38;5;28mself\u001b[39m\u001b[38;5;241m.\u001b[39mreferences[k] \u001b[38;5;241m=\u001b[39m v\n\u001b[1;32m    307\u001b[0m     \u001b[38;5;28;01melse\u001b[39;00m:\n\u001b[0;32m--> 308\u001b[0m         \u001b[38;5;28mself\u001b[39m\u001b[38;5;241m.\u001b[39mreferences[k] \u001b[38;5;241m=\u001b[39m \u001b[43mray\u001b[49m\u001b[38;5;241;43m.\u001b[39;49m\u001b[43mput\u001b[49m\u001b[43m(\u001b[49m\u001b[43mv\u001b[49m\u001b[43m)\u001b[49m\n\u001b[1;32m    309\u001b[0m \u001b[38;5;28mself\u001b[39m\u001b[38;5;241m.\u001b[39mto_flush\u001b[38;5;241m.\u001b[39mclear()\n",
      "File \u001b[0;32m~/anaconda3/envs/rayvenv/lib/python3.9/site-packages/ray/_private/auto_init_hook.py:21\u001b[0m, in \u001b[0;36mwrap_auto_init.<locals>.auto_init_wrapper\u001b[0;34m(*args, **kwargs)\u001b[0m\n\u001b[1;32m     18\u001b[0m \u001b[38;5;129m@wraps\u001b[39m(fn)\n\u001b[1;32m     19\u001b[0m \u001b[38;5;28;01mdef\u001b[39;00m \u001b[38;5;21mauto_init_wrapper\u001b[39m(\u001b[38;5;241m*\u001b[39margs, \u001b[38;5;241m*\u001b[39m\u001b[38;5;241m*\u001b[39mkwargs):\n\u001b[1;32m     20\u001b[0m     auto_init_ray()\n\u001b[0;32m---> 21\u001b[0m     \u001b[38;5;28;01mreturn\u001b[39;00m \u001b[43mfn\u001b[49m\u001b[43m(\u001b[49m\u001b[38;5;241;43m*\u001b[39;49m\u001b[43margs\u001b[49m\u001b[43m,\u001b[49m\u001b[43m \u001b[49m\u001b[38;5;241;43m*\u001b[39;49m\u001b[38;5;241;43m*\u001b[39;49m\u001b[43mkwargs\u001b[49m\u001b[43m)\u001b[49m\n",
      "File \u001b[0;32m~/anaconda3/envs/rayvenv/lib/python3.9/site-packages/ray/_private/client_mode_hook.py:102\u001b[0m, in \u001b[0;36mclient_mode_hook.<locals>.wrapper\u001b[0;34m(*args, **kwargs)\u001b[0m\n\u001b[1;32m     98\u001b[0m \u001b[38;5;28;01mif\u001b[39;00m client_mode_should_convert():\n\u001b[1;32m     99\u001b[0m     \u001b[38;5;66;03m# Legacy code\u001b[39;00m\n\u001b[1;32m    100\u001b[0m     \u001b[38;5;66;03m# we only convert init function if RAY_CLIENT_MODE=1\u001b[39;00m\n\u001b[1;32m    101\u001b[0m     \u001b[38;5;28;01mif\u001b[39;00m func\u001b[38;5;241m.\u001b[39m\u001b[38;5;18m__name__\u001b[39m \u001b[38;5;241m!=\u001b[39m \u001b[38;5;124m\"\u001b[39m\u001b[38;5;124minit\u001b[39m\u001b[38;5;124m\"\u001b[39m \u001b[38;5;129;01mor\u001b[39;00m is_client_mode_enabled_by_default:\n\u001b[0;32m--> 102\u001b[0m         \u001b[38;5;28;01mreturn\u001b[39;00m \u001b[38;5;28;43mgetattr\u001b[39;49m\u001b[43m(\u001b[49m\u001b[43mray\u001b[49m\u001b[43m,\u001b[49m\u001b[43m \u001b[49m\u001b[43mfunc\u001b[49m\u001b[38;5;241;43m.\u001b[39;49m\u001b[38;5;18;43m__name__\u001b[39;49m\u001b[43m)\u001b[49m\u001b[43m(\u001b[49m\u001b[38;5;241;43m*\u001b[39;49m\u001b[43margs\u001b[49m\u001b[43m,\u001b[49m\u001b[43m \u001b[49m\u001b[38;5;241;43m*\u001b[39;49m\u001b[38;5;241;43m*\u001b[39;49m\u001b[43mkwargs\u001b[49m\u001b[43m)\u001b[49m\n\u001b[1;32m    103\u001b[0m \u001b[38;5;28;01mreturn\u001b[39;00m func(\u001b[38;5;241m*\u001b[39margs, \u001b[38;5;241m*\u001b[39m\u001b[38;5;241m*\u001b[39mkwargs)\n",
      "File \u001b[0;32m~/anaconda3/envs/rayvenv/lib/python3.9/site-packages/ray/util/client/api.py:52\u001b[0m, in \u001b[0;36m_ClientAPI.put\u001b[0;34m(self, *args, **kwargs)\u001b[0m\n\u001b[1;32m     44\u001b[0m \u001b[38;5;28;01mdef\u001b[39;00m \u001b[38;5;21mput\u001b[39m(\u001b[38;5;28mself\u001b[39m, \u001b[38;5;241m*\u001b[39margs, \u001b[38;5;241m*\u001b[39m\u001b[38;5;241m*\u001b[39mkwargs):\n\u001b[1;32m     45\u001b[0m \u001b[38;5;250m    \u001b[39m\u001b[38;5;124;03m\"\"\"put is the hook stub passed on to replace `ray.put`\u001b[39;00m\n\u001b[1;32m     46\u001b[0m \n\u001b[1;32m     47\u001b[0m \u001b[38;5;124;03m    Args:\u001b[39;00m\n\u001b[0;32m   (...)\u001b[0m\n\u001b[1;32m     50\u001b[0m \u001b[38;5;124;03m        kwargs: opaque keyword arguments\u001b[39;00m\n\u001b[1;32m     51\u001b[0m \u001b[38;5;124;03m    \"\"\"\u001b[39;00m\n\u001b[0;32m---> 52\u001b[0m     \u001b[38;5;28;01mreturn\u001b[39;00m \u001b[38;5;28;43mself\u001b[39;49m\u001b[38;5;241;43m.\u001b[39;49m\u001b[43mworker\u001b[49m\u001b[38;5;241;43m.\u001b[39;49m\u001b[43mput\u001b[49m\u001b[43m(\u001b[49m\u001b[38;5;241;43m*\u001b[39;49m\u001b[43margs\u001b[49m\u001b[43m,\u001b[49m\u001b[43m \u001b[49m\u001b[38;5;241;43m*\u001b[39;49m\u001b[38;5;241;43m*\u001b[39;49m\u001b[43mkwargs\u001b[49m\u001b[43m)\u001b[49m\n",
      "File \u001b[0;32m~/anaconda3/envs/rayvenv/lib/python3.9/site-packages/ray/util/client/worker.py:494\u001b[0m, in \u001b[0;36mWorker.put\u001b[0;34m(self, val, client_ref_id, _owner)\u001b[0m\n\u001b[1;32m    486\u001b[0m \u001b[38;5;28;01mif\u001b[39;00m \u001b[38;5;28misinstance\u001b[39m(val, ClientObjectRef):\n\u001b[1;32m    487\u001b[0m     \u001b[38;5;28;01mraise\u001b[39;00m \u001b[38;5;167;01mTypeError\u001b[39;00m(\n\u001b[1;32m    488\u001b[0m         \u001b[38;5;124m\"\u001b[39m\u001b[38;5;124mCalling \u001b[39m\u001b[38;5;124m'\u001b[39m\u001b[38;5;124mput\u001b[39m\u001b[38;5;124m'\u001b[39m\u001b[38;5;124m on an ObjectRef is not allowed \u001b[39m\u001b[38;5;124m\"\u001b[39m\n\u001b[1;32m    489\u001b[0m         \u001b[38;5;124m\"\u001b[39m\u001b[38;5;124m(similarly, returning an ObjectRef from a remote \u001b[39m\u001b[38;5;124m\"\u001b[39m\n\u001b[0;32m   (...)\u001b[0m\n\u001b[1;32m    492\u001b[0m         \u001b[38;5;124m\"\u001b[39m\u001b[38;5;124mcall \u001b[39m\u001b[38;5;124m'\u001b[39m\u001b[38;5;124mput\u001b[39m\u001b[38;5;124m'\u001b[39m\u001b[38;5;124m on it (or return it).\u001b[39m\u001b[38;5;124m\"\u001b[39m\n\u001b[1;32m    493\u001b[0m     )\n\u001b[0;32m--> 494\u001b[0m data \u001b[38;5;241m=\u001b[39m \u001b[43mdumps_from_client\u001b[49m\u001b[43m(\u001b[49m\u001b[43mval\u001b[49m\u001b[43m,\u001b[49m\u001b[43m \u001b[49m\u001b[38;5;28;43mself\u001b[39;49m\u001b[38;5;241;43m.\u001b[39;49m\u001b[43m_client_id\u001b[49m\u001b[43m)\u001b[49m\n\u001b[1;32m    495\u001b[0m \u001b[38;5;28;01mreturn\u001b[39;00m \u001b[38;5;28mself\u001b[39m\u001b[38;5;241m.\u001b[39m_put_pickled(data, client_ref_id, _owner)\n",
      "File \u001b[0;32m~/anaconda3/envs/rayvenv/lib/python3.9/site-packages/ray/util/client/client_pickler.py:159\u001b[0m, in \u001b[0;36mdumps_from_client\u001b[0;34m(obj, client_id, protocol)\u001b[0m\n\u001b[1;32m    157\u001b[0m \u001b[38;5;28;01mwith\u001b[39;00m io\u001b[38;5;241m.\u001b[39mBytesIO() \u001b[38;5;28;01mas\u001b[39;00m file:\n\u001b[1;32m    158\u001b[0m     cp \u001b[38;5;241m=\u001b[39m ClientPickler(client_id, file, protocol\u001b[38;5;241m=\u001b[39mprotocol)\n\u001b[0;32m--> 159\u001b[0m     \u001b[43mcp\u001b[49m\u001b[38;5;241;43m.\u001b[39;49m\u001b[43mdump\u001b[49m\u001b[43m(\u001b[49m\u001b[43mobj\u001b[49m\u001b[43m)\u001b[49m\n\u001b[1;32m    160\u001b[0m     \u001b[38;5;28;01mreturn\u001b[39;00m file\u001b[38;5;241m.\u001b[39mgetvalue()\n",
      "File \u001b[0;32m~/anaconda3/envs/rayvenv/lib/python3.9/site-packages/ray/cloudpickle/cloudpickle.py:1245\u001b[0m, in \u001b[0;36mPickler.dump\u001b[0;34m(self, obj)\u001b[0m\n\u001b[1;32m   1243\u001b[0m \u001b[38;5;28;01mdef\u001b[39;00m \u001b[38;5;21mdump\u001b[39m(\u001b[38;5;28mself\u001b[39m, obj):\n\u001b[1;32m   1244\u001b[0m     \u001b[38;5;28;01mtry\u001b[39;00m:\n\u001b[0;32m-> 1245\u001b[0m         \u001b[38;5;28;01mreturn\u001b[39;00m \u001b[38;5;28;43msuper\u001b[39;49m\u001b[43m(\u001b[49m\u001b[43m)\u001b[49m\u001b[38;5;241;43m.\u001b[39;49m\u001b[43mdump\u001b[49m\u001b[43m(\u001b[49m\u001b[43mobj\u001b[49m\u001b[43m)\u001b[49m\n\u001b[1;32m   1246\u001b[0m     \u001b[38;5;28;01mexcept\u001b[39;00m \u001b[38;5;167;01mRuntimeError\u001b[39;00m \u001b[38;5;28;01mas\u001b[39;00m e:\n\u001b[1;32m   1247\u001b[0m         \u001b[38;5;28;01mif\u001b[39;00m \u001b[38;5;28mlen\u001b[39m(e\u001b[38;5;241m.\u001b[39margs) \u001b[38;5;241m>\u001b[39m \u001b[38;5;241m0\u001b[39m \u001b[38;5;129;01mand\u001b[39;00m \u001b[38;5;124m\"\u001b[39m\u001b[38;5;124mrecursion\u001b[39m\u001b[38;5;124m\"\u001b[39m \u001b[38;5;129;01min\u001b[39;00m e\u001b[38;5;241m.\u001b[39margs[\u001b[38;5;241m0\u001b[39m]:\n",
      "\u001b[0;31mTypeError\u001b[0m: cannot pickle '_thread.lock' object"
     ]
    }
   ],
   "source": [
    "def train_func():\n",
    "    # Define the configuration for the training\n",
    "    config = {\n",
    "        \"batch_size\": 32,\n",
    "        \"num_epochs\": 1,\n",
    "        \"s3_bucket_name\": 'unstructured-data',  # Replace with your S3 bucket name\n",
    "        \"s3_checkpoint_dir\": \"finetuning_checkpoints\"\n",
    "    }\n",
    "    \n",
    "    # Load dataset\n",
    "    dataset = load_finetuning_dataset()\n",
    "    tokenizer = AutoTokenizer.from_pretrained(\"sentence-transformers/all-MiniLM-L6-v2\")\n",
    "\n",
    "    # Tokenize dataset\n",
    "    tokenized_train_dataset = dataset[\"train\"].map(\n",
    "        lambda x: tokenize_function(x, tokenizer), batched=True\n",
    "    )\n",
    "\n",
    "    # Load model\n",
    "    model = AutoModelForSequenceClassification.from_pretrained(\n",
    "        \"sentence-transformers/all-MiniLM-L6-v2\", num_labels=2  # Adjust num_labels as needed\n",
    "    )\n",
    "\n",
    "    # Define training arguments\n",
    "    training_args = TrainingArguments(\n",
    "        output_dir=\"./results\",\n",
    "        evaluation_strategy=\"no\",  # No evaluation during training\n",
    "        save_strategy=\"epoch\",\n",
    "        learning_rate=2e-5,\n",
    "        per_device_train_batch_size=config[\"batch_size\"],\n",
    "        per_device_eval_batch_size=config[\"batch_size\"],\n",
    "        num_train_epochs=config[\"num_epochs\"],\n",
    "        weight_decay=0.01,\n",
    "        report_to=\"none\",\n",
    "    )\n",
    "\n",
    "    # Create Trainer\n",
    "    trainer = Trainer(\n",
    "        model=model,\n",
    "        args=training_args,\n",
    "        train_dataset=tokenized_train_dataset,\n",
    "    )\n",
    "\n",
    "    # Add RayTrainReportCallback to the Trainer\n",
    "    callback = RayTrainReportCallback()\n",
    "    trainer.add_callback(callback)\n",
    "\n",
    "    # Prepare Trainer for distributed training\n",
    "    trainer = ray.train.huggingface.transformers.prepare_trainer(trainer)\n",
    "\n",
    "    # Start training\n",
    "    trainer.train()\n",
    "\n",
    "    # Upload checkpoints to S3 after training\n",
    "    local_checkpoint_dir = training_args.output_dir\n",
    "    s3_bucket_name = config[\"s3_bucket_name\"]\n",
    "    s3_checkpoint_dir = config[\"s3_checkpoint_dir\"]\n",
    "    upload_to_s3(local_checkpoint_dir, s3_bucket_name, s3_checkpoint_dir)\n",
    "\n",
    "\n",
    "# Create a Ray TorchTrainer and execute the training function\n",
    "trainer = TorchTrainer(\n",
    "    train_func,\n",
    "    scaling_config=ScalingConfig(num_workers=2, use_gpu=False),\n",
    ")\n",
    "\n",
    "# Run the trainer\n",
    "result = trainer.fit()\n",
    "\n",
    "# Load the trained model\n",
    "with result.checkpoint.as_directory() as checkpoint_dir:\n",
    "    checkpoint_path = os.path.join(\n",
    "        checkpoint_dir,\n",
    "        RayTrainReportCallback.CHECKPOINT_NAME,\n",
    "    )\n",
    "    model = AutoModelForSequenceClassification.from_pretrained(checkpoint_path)"
   ]
  },
  {
   "cell_type": "markdown",
   "id": "057c9dc1-9141-449f-8541-cccd990cef89",
   "metadata": {},
   "source": [
    "## Evaluate Finetuned Model"
   ]
  },
  {
   "cell_type": "markdown",
   "id": "395648b6-93e7-4dbb-90d8-3bcb5229cf78",
   "metadata": {},
   "source": [
    "## Log Evaluation Results to MLFlow"
   ]
  },
  {
   "cell_type": "code",
   "execution_count": null,
   "id": "3fcf2e2e-e299-4fd5-9d39-fd9f9b51484f",
   "metadata": {},
   "outputs": [],
   "source": []
  }
 ],
 "metadata": {
  "kernelspec": {
   "display_name": "Python 3 (ipykernel)",
   "language": "python",
   "name": "python3"
  },
  "language_info": {
   "codemirror_mode": {
    "name": "ipython",
    "version": 3
   },
   "file_extension": ".py",
   "mimetype": "text/x-python",
   "name": "python",
   "nbconvert_exporter": "python",
   "pygments_lexer": "ipython3",
   "version": "3.9.18"
  }
 },
 "nbformat": 4,
 "nbformat_minor": 5
}
